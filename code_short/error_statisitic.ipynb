{
 "cells": [
  {
   "cell_type": "code",
   "execution_count": 10,
   "metadata": {},
   "outputs": [],
   "source": [
    "\n",
    "from neuron import h\n",
    "import plotly.graph_objects as go\n",
    "import matplotlib.colors as mcolors\n",
    "from neuron.units import ms, mV\n",
    "import plotly.io as pio\n",
    "from matplotlib import pyplot, cm\n",
    "import numpy as np\n",
    "import matplotlib.pyplot as plt\n",
    "%matplotlib inline\n",
    "import plotly\n",
    "from neuron import clear_gui_callback\n",
    "from scipy.optimize import curve_fit\n",
    "import matplotlib.pyplot as plt\n",
    "from scipy.integrate import cumtrapz\n",
    "from numpy.linalg import pinv, eig\n",
    "import numpy as np\n",
    "from multiprocessing import Pool\n",
    "import os\n",
    "\n",
    "font2={'family':'Times New Roman',\n",
    "'weight':'bold',\n",
    "'size': 10}\n",
    "# 自定义刻度标签显示格式"
   ]
  },
  {
   "cell_type": "markdown",
   "metadata": {},
   "source": [
    "# mean local conductance"
   ]
  },
  {
   "cell_type": "code",
   "execution_count": 6,
   "metadata": {},
   "outputs": [
    {
     "data": {
      "image/png": "[encoded data removed]",
      "text/plain": [
       "<Figure size 432x288 with 1 Axes>"
      ]
     },
     "metadata": {
      "needs_background": "light"
     },
     "output_type": "display_data"
    }
   ],
   "source": [
    "run_dt=0.1\n",
    "syn_tau1 = 1.\n",
    "syn_tau2 = 5.\n",
    "fE = 1e-3\n",
    "t=np.arange(0,100+run_dt,run_dt)\n",
    "NE = ((syn_tau1/syn_tau2)**(syn_tau1/(syn_tau2-syn_tau1))-(syn_tau1/syn_tau2)**(syn_tau2/(syn_tau2-syn_tau1)))**-1\n",
    "uE = NE*(np.exp(-t/syn_tau2)-np.exp(-t/syn_tau1))\n",
    "plt.plot(t,uE)\n",
    "ground_truth = np.mean(uE)"
   ]
  },
  {
   "cell_type": "code",
   "execution_count": 42,
   "metadata": {},
   "outputs": [],
   "source": [
    "def local_mean_error(txtname_apic = \"estimated_mean_cond_active_apicloc109_fI1e3_blockIh.txt\", txtname_dend = \"estimated_mean_cond_active_dendloc84_fE1e4.txt\", fE = 1e-4):\n",
    "\n",
    "\n",
    "\n",
    "\n",
    "    # 修改当前路径为指定路径\n",
    "    os.chdir(\"/home/wzl/LFPy/project/conductance_measurement/realistic_neuron/L5PC_neuron/local_conductance\")\n",
    "\n",
    "    run_dt=0.1\n",
    "    syn_tau1 = 1.\n",
    "    syn_tau2 = 5.\n",
    "    t=np.arange(0,100+run_dt,run_dt)\n",
    "    NE = ((syn_tau1/syn_tau2)**(syn_tau1/(syn_tau2-syn_tau1))-(syn_tau1/syn_tau2)**(syn_tau2/(syn_tau2-syn_tau1)))**-1\n",
    "    uE = NE*(np.exp(-t/syn_tau2)-np.exp(-t/syn_tau1))\n",
    "    ground_truth = np.mean(uE)\n",
    "\n",
    "\n",
    "    estimated_mean_cond_apic= np.loadtxt(txtname_apic)\n",
    "    estimated_mean_cond_us_apic = estimated_mean_cond_apic[:,0]\n",
    "    estimated_mean_cond_trad_apic = estimated_mean_cond_apic[:,1]\n",
    "\n",
    "    estimated_mean_cond_dend= np.loadtxt(txtname_dend)\n",
    "    estimated_mean_cond_us_dend = estimated_mean_cond_dend[:,0]\n",
    "    estimated_mean_cond_trad_dend = estimated_mean_cond_dend[:,1]\n",
    "\n",
    "\n",
    "    var_dend_trad = np.abs(estimated_mean_cond_trad_dend - ground_truth*fE)/(ground_truth*fE)\n",
    "    var_apic_trad = np.abs(estimated_mean_cond_trad_apic - ground_truth*fE)/(ground_truth*fE)\n",
    "    var_dend_us = np.abs(estimated_mean_cond_us_dend - ground_truth*fE)/(ground_truth*fE)\n",
    "    var_apic_us = np.abs(estimated_mean_cond_us_apic - ground_truth*fE)/(ground_truth*fE)\n",
    "    error = {}\n",
    "    error['dend_trad_minmax'] = np.array([np.min(var_dend_trad),np.max(var_dend_trad)])\n",
    "    error['apic_trad_minmax'] = np.array([np.min(var_apic_trad),np.max(var_apic_trad)])\n",
    "    error['dend_us_minmax'] = np.array([np.min(var_dend_us),np.max(var_dend_us)])\n",
    "    error['apic_us_minmax'] = np.array([np.min(var_apic_us),np.max(var_apic_us)])\n",
    "\n",
    "    error['trad_mean'] = np.mean(np.concatenate((var_dend_trad,var_apic_trad)))\n",
    "    error['us_mean'] = np.mean(np.concatenate((var_dend_us,var_apic_us)))\n",
    "    \n",
    "    return error"
   ]
  },
  {
   "cell_type": "markdown",
   "metadata": {},
   "source": [
    "## passive"
   ]
  },
  {
   "cell_type": "code",
   "execution_count": 43,
   "metadata": {},
   "outputs": [
    {
     "name": "stdout",
     "output_type": "stream",
     "text": [
      "passive E:\n",
      "{'dend_trad_minmax': array([0.01226287, 0.19252848]), 'apic_trad_minmax': array([0.02534454, 0.6738184 ]), 'dend_us_minmax': array([0.00010424, 0.09121816]), 'apic_us_minmax': array([7.85099568e-05, 1.15191146e-01]), 'trad_mean': 0.20243741798141943, 'us_mean': 0.02381023184735968}\n",
      "passive I:\n",
      "{'dend_trad_minmax': array([0.02472107, 0.57595547]), 'apic_trad_minmax': array([0.04312848, 0.88852166]), 'dend_us_minmax': array([0.00181838, 0.48801968]), 'apic_us_minmax': array([0.00130165, 0.51956893]), 'trad_mean': 0.3651632548357778, 'us_mean': 0.16071717629008736}\n"
     ]
    }
   ],
   "source": [
    "# E\n",
    "error_passive_E = local_mean_error(txtname_apic = \"estimated_mean_cond_passive_apicloc109_fE1e4.txt\", txtname_dend = \"estimated_mean_cond_passive_dendloc84_fE1e4.txt\", fE = 1e-4)\n",
    "print(\"passive E:\")\n",
    "print(error_passive_E)\n",
    "# I\n",
    "error_passive_I = local_mean_error(txtname_apic = \"estimated_mean_cond_passive_apicloc109_fI1e3.txt\", txtname_dend = \"estimated_mean_cond_passive_dendloc84_fI1e3.txt\", fE = 1e-3)\n",
    "print(\"passive I:\")\n",
    "print(error_passive_I)\n"
   ]
  },
  {
   "cell_type": "markdown",
   "metadata": {},
   "source": [
    "## active"
   ]
  },
  {
   "cell_type": "code",
   "execution_count": 44,
   "metadata": {},
   "outputs": [
    {
     "name": "stdout",
     "output_type": "stream",
     "text": [
      "active E:\n",
      "{'dend_trad_minmax': array([0.0130786 , 0.20069622]), 'apic_trad_minmax': array([0.0274188 , 0.69640733]), 'dend_us_minmax': array([0.00045423, 0.05020596]), 'apic_us_minmax': array([0.00168819, 0.81257752]), 'trad_mean': 0.2138720001214826, 'us_mean': 0.13741371681129055}\n",
      "active I:\n",
      "{'dend_trad_minmax': array([0.02299658, 0.57578456]), 'apic_trad_minmax': array([0.0417536 , 0.89113271]), 'dend_us_minmax': array([0.00158747, 0.48769092]), 'apic_us_minmax': array([0.00070548, 0.55414812]), 'trad_mean': 0.36607256608434113, 'us_mean': 0.1683521425978611}\n"
     ]
    }
   ],
   "source": [
    "# E\n",
    "error_active_E = local_mean_error(txtname_apic = \"estimated_mean_cond_active_apicloc109_fE1e4_gIhbar_Ih0_05.txt\", txtname_dend = \"estimated_mean_cond_active_dendloc84_fE1e4_gIhbar_Ih0_05.txt\", fE = 1e-4)\n",
    "print(\"active E:\")\n",
    "print(error_active_E)\n",
    "# I\n",
    "error_active_I = local_mean_error(txtname_apic = \"estimated_mean_cond_active_apicloc109_fI1e3_gIhbar_Ih0_05.txt\", txtname_dend = \"estimated_mean_cond_active_dendloc84_fI1e3_gIhbar_Ih0_05.txt\", fE = 1e-3)\n",
    "print(\"active I:\")\n",
    "print(error_active_I)\n"
   ]
  },
  {
   "cell_type": "markdown",
   "metadata": {},
   "source": [
    "# block Ih"
   ]
  },
  {
   "cell_type": "code",
   "execution_count": 45,
   "metadata": {},
   "outputs": [
    {
     "name": "stdout",
     "output_type": "stream",
     "text": [
      "active blockIh E:\n",
      "{'dend_trad_minmax': array([0.0119076 , 0.19222896]), 'apic_trad_minmax': array([0.02520494, 0.6787389 ]), 'dend_us_minmax': array([0.0002792 , 0.08496174]), 'apic_us_minmax': array([0.00013649, 0.0977082 ]), 'trad_mean': 0.20388736481605557, 'us_mean': 0.018925605303505684}\n",
      "active blockIh I:\n",
      "{'dend_trad_minmax': array([0.02287467, 0.57516543]), 'apic_trad_minmax': array([0.04156575, 0.89003811]), 'dend_us_minmax': array([0.00242293, 0.48890551]), 'apic_us_minmax': array([0.00185238, 0.52259639]), 'trad_mean': 0.36519620937037833, 'us_mean': 0.16193924548644856}\n"
     ]
    }
   ],
   "source": [
    "# E\n",
    "error_active_blockIh_E = local_mean_error(txtname_apic = \"estimated_mean_cond_active_apicloc109_fE1e4_blockIh.txt\", txtname_dend = \"estimated_mean_cond_active_dendloc84_fE1e4_blockIh.txt\", fE = 1e-4)\n",
    "print(\"active blockIh E:\")\n",
    "print(error_active_blockIh_E)\n",
    "# I\n",
    "error_active_blockIh_I = local_mean_error(txtname_apic = \"estimated_mean_cond_active_apicloc109_fI1e3_blockIh.txt\", txtname_dend = \"estimated_mean_cond_active_dendloc84_fI1e3_blockIh.txt\", fE = 1e-3)\n",
    "print(\"active blockIh I:\")\n",
    "print(error_active_blockIh_I)\n"
   ]
  },
  {
   "cell_type": "markdown",
   "metadata": {},
   "source": [
    "# synaptic time constant"
   ]
  },
  {
   "cell_type": "code",
   "execution_count": 57,
   "metadata": {},
   "outputs": [],
   "source": [
    "def syn_time_error(txtname_apic = \"estimated_lambdas_passive_apicloc109_fE1e4.txt\", txtname_dend = \"estimated_lambdas_passive_dendloc84_fE1e4.txt\"):\n",
    "\n",
    "\n",
    "        # 修改当前路径为指定路径\n",
    "        os.chdir(\"/home/wzl/LFPy/project/conductance_measurement/realistic_neuron/L5PC_neuron\")\n",
    "\n",
    "        estimated_lambdas_dend= np.loadtxt(txtname_dend)\n",
    "        estimated_lambdas_dend_rise = -1./estimated_lambdas_dend[:,0]\n",
    "        estimated_lambdas_dend_decay = -1./estimated_lambdas_dend[:,1]\n",
    "\n",
    "        estimated_lambdas_apic= np.loadtxt(txtname_apic)\n",
    "        estimated_lambdas_apic_rise = -1./estimated_lambdas_apic[:,0]\n",
    "        estimated_lambdas_apic_decay = -1./estimated_lambdas_apic[:,1]\n",
    "\n",
    "\n",
    "        truth_rise = 1.0\n",
    "        truth_decay = 5.0\n",
    "        var_error_dend_rise = np.abs(estimated_lambdas_dend_rise - truth_rise)/truth_rise\n",
    "        var_error_dend_decay = np.abs(estimated_lambdas_dend_decay - truth_decay)/truth_decay\n",
    "        var_error_apic_rise = np.abs(estimated_lambdas_apic_rise - truth_rise)/truth_rise\n",
    "        var_error_apic_decay = np.abs(estimated_lambdas_apic_decay - truth_decay)/truth_decay\n",
    "        \n",
    "        error = {}\n",
    "        error['dend_rise_minmax'] = np.array([np.min(var_error_dend_rise),np.max(var_error_dend_rise)])\n",
    "        error['apic_rise_minmax'] = np.array([np.min(var_error_apic_rise),np.max(var_error_apic_rise)])\n",
    "        error['dend_decay_minmax'] = np.array([np.min(var_error_dend_decay),np.max(var_error_dend_decay)])\n",
    "        error['apic_decay_minmax'] = np.array([np.min(var_error_apic_decay),np.max(var_error_apic_decay)])\n",
    "\n",
    "        error['rise_mean'] = np.mean(np.concatenate((var_error_apic_rise,var_error_dend_rise)))\n",
    "        error['decay_mean'] = np.mean(np.concatenate((var_error_dend_decay,var_error_apic_decay)))\n",
    "        return error\n"
   ]
  },
  {
   "cell_type": "markdown",
   "metadata": {},
   "source": [
    "## passive"
   ]
  },
  {
   "cell_type": "code",
   "execution_count": 59,
   "metadata": {},
   "outputs": [
    {
     "name": "stdout",
     "output_type": "stream",
     "text": [
      "passive E:\n",
      "{'dend_rise_minmax': array([0.00100108, 0.27401677]), 'apic_rise_minmax': array([9.74329821e-04, 1.48919331e+00]), 'dend_decay_minmax': array([0.00022793, 0.03889481]), 'apic_decay_minmax': array([4.04089791e-05, 2.55947440e-02]), 'rise_mean': 0.15659326675066038, 'decay_mean': 0.008758498647270343}\n",
      "passive I:\n",
      "{'dend_rise_minmax': array([2.21961181e-03, 3.34617520e+00]), 'apic_rise_minmax': array([2.21961181e-03, 3.34617520e+00]), 'dend_decay_minmax': array([0.00049042, 0.16745837]), 'apic_decay_minmax': array([0.00049042, 0.16745837]), 'rise_mean': 0.8370972533403932, 'decay_mean': 0.03505428295762164}\n"
     ]
    }
   ],
   "source": [
    "# E\n",
    "error_passive_E = syn_time_error(txtname_apic = \"estimated_lambdas_passive_apicloc109_fE1e4.txt\", txtname_dend = \"estimated_lambdas_passive_dendloc84_fE1e4.txt\")\n",
    "print(\"passive E:\")\n",
    "print(error_passive_E)\n",
    "\n",
    "# I\n",
    "error_passive_I = syn_time_error(txtname_apic = \"estimated_lambdas_passive_apicloc109_fI1e3.txt\", txtname_dend = \"estimated_lambdas_passive_apicloc109_fI1e3.txt\")\n",
    "print(\"passive I:\")\n",
    "print(error_passive_I)\n"
   ]
  },
  {
   "cell_type": "markdown",
   "metadata": {},
   "source": [
    "## active"
   ]
  },
  {
   "cell_type": "code",
   "execution_count": 61,
   "metadata": {},
   "outputs": [
    {
     "name": "stdout",
     "output_type": "stream",
     "text": [
      "active E:\n",
      "{'dend_rise_minmax': array([0.00071683, 0.25661219]), 'apic_rise_minmax': array([8.81442627e-04, 7.54070528e+00]), 'dend_decay_minmax': array([4.13601622e-05, 2.65261987e-02]), 'apic_decay_minmax': array([1.45822120e-03, 4.49273913e+03]), 'rise_mean': 1.2632042241967114, 'decay_mean': 28.508575483781264}\n",
      "active I:\n",
      "{'dend_rise_minmax': array([3.35847690e-03, 6.34562069e+00]), 'apic_rise_minmax': array([3.35847690e-03, 6.34562069e+00]), 'dend_decay_minmax': array([2.40168508e-03, 3.44410931e+00]), 'apic_decay_minmax': array([2.40168508e-03, 3.44410931e+00]), 'rise_mean': 1.4475250123200416, 'decay_mean': 0.4140645183279537}\n"
     ]
    }
   ],
   "source": [
    "# E\n",
    "error_active_E = syn_time_error(txtname_apic = \"estimated_lambdas_active_apicloc109_fE1e4_gIhbar_Ih0_05.txt\", txtname_dend = \"estimated_lambdas_active_dendloc84_fE1e4_gIhbar_Ih0_05.txt\")\n",
    "print(\"active E:\")\n",
    "print(error_active_E)\n",
    "\n",
    "# I\n",
    "error_active_I = syn_time_error(txtname_apic = \"estimated_lambdas_active_apicloc109_fI1e3_gIhbar_Ih0_05.txt\", txtname_dend = \"estimated_lambdas_active_apicloc109_fI1e3_gIhbar_Ih0_05.txt\")\n",
    "print(\"active I:\")\n",
    "print(error_active_I)\n"
   ]
  },
  {
   "cell_type": "markdown",
   "metadata": {},
   "source": [
    "## active block Ih"
   ]
  },
  {
   "cell_type": "code",
   "execution_count": 63,
   "metadata": {},
   "outputs": [
    {
     "name": "stdout",
     "output_type": "stream",
     "text": [
      "active blockIh E:\n",
      "{'dend_rise_minmax': array([1.11941423e-05, 2.86857587e-01]), 'apic_rise_minmax': array([1.05370010e-04, 5.01798691e+00]), 'dend_decay_minmax': array([2.08669936e-06, 3.21323408e-02]), 'apic_decay_minmax': array([1.64734354e-04, 7.00867080e+02]), 'rise_mean': 0.865147323270609, 'decay_mean': 4.622543270374593}\n",
      "active blockIh I:\n",
      "{'dend_rise_minmax': array([0.00328982, 2.6819161 ]), 'apic_rise_minmax': array([0.00328982, 2.6819161 ]), 'dend_decay_minmax': array([0.00179895, 0.10591945]), 'apic_decay_minmax': array([0.00179895, 0.10591945]), 'rise_mean': 0.6513698425834238, 'decay_mean': 0.0339170336148532}\n"
     ]
    }
   ],
   "source": [
    "# E\n",
    "error_active_blockIh_E = syn_time_error(txtname_apic = \"estimated_lambdas_active_apicloc109_fE1e4_blockIh.txt\", txtname_dend = \"estimated_lambdas_active_dendloc84_fE1e4_blockIh.txt\")\n",
    "print(\"active blockIh E:\")\n",
    "print(error_active_blockIh_E)\n",
    "\n",
    "# I\n",
    "error_active_blockIh_I = syn_time_error(txtname_apic = \"estimated_lambdas_active_apicloc109_fI1e3_blockIh.txt\", txtname_dend = \"estimated_lambdas_active_apicloc109_fI1e3_blockIh.txt\")\n",
    "print(\"active blockIh I:\")\n",
    "print(error_active_blockIh_I)\n"
   ]
  }
 ],
 "metadata": {
  "kernelspec": {
   "display_name": "nest",
   "language": "python",
   "name": "python3"
  },
  "language_info": {
   "codemirror_mode": {
    "name": "ipython",
    "version": 3
   },
   "file_extension": ".py",
   "mimetype": "text/x-python",
   "name": "python",
   "nbconvert_exporter": "python",
   "pygments_lexer": "ipython3",
   "version": "3.10.2"
  }
 },
 "nbformat": 4,
 "nbformat_minor": 2
}
