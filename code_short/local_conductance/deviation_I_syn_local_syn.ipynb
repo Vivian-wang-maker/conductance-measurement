{
 "cells": [
  {
   "cell_type": "code",
   "execution_count": 8,
   "metadata": {},
   "outputs": [
    {
     "name": "stdout",
     "output_type": "stream",
     "text": [
      "INFO : Using neuron-nightly Package (Developer Version)\n",
      "/home/wzl/LFPy/project/conductance_measurement/realistic_neuron/L5PC_neuron/local_conductance\n",
      "cfiles =\n",
      "Mod files: \"/home/wzl/LFPy/project/conductance_measurement/realistic_neuron/L5PC_neuron/L5PC/mod/CaDynamics_E2.mod\" \"/home/wzl/LFPy/project/conductance_measurement/realistic_neuron/L5PC_neuron/L5PC/mod/Ca_HVA.mod\" \"/home/wzl/LFPy/project/conductance_measurement/realistic_neuron/L5PC_neuron/L5PC/mod/Ca_LVAst.mod\" \"/home/wzl/LFPy/project/conductance_measurement/realistic_neuron/L5PC_neuron/L5PC/mod/epsp.mod\" \"/home/wzl/LFPy/project/conductance_measurement/realistic_neuron/L5PC_neuron/L5PC/mod/Ih.mod\" \"/home/wzl/LFPy/project/conductance_measurement/realistic_neuron/L5PC_neuron/L5PC/mod/Im.mod\" \"/home/wzl/LFPy/project/conductance_measurement/realistic_neuron/L5PC_neuron/L5PC/mod/K_Pst.mod\" \"/home/wzl/LFPy/project/conductance_measurement/realistic_neuron/L5PC_neuron/L5PC/mod/K_Tst.mod\" \"/home/wzl/LFPy/project/conductance_measurement/realistic_neuron/L5PC_neuron/L5PC/mod/Nap_Et2.mod\" \"/home/wzl/LFPy/project/conductance_measurement/realistic_neuron/L5PC_neuron/L5PC/mod/NaTa_t.mod\" \"/home/wzl/LFPy/project/conductance_measurement/realistic_neuron/L5PC_neuron/L5PC/mod/NaTs2_t.mod\" \"/home/wzl/LFPy/project/conductance_measurement/realistic_neuron/L5PC_neuron/L5PC/mod/SK_E2.mod\" \"/home/wzl/LFPy/project/conductance_measurement/realistic_neuron/L5PC_neuron/L5PC/mod/SKv3_1.mod\"\n",
      "\n",
      "MODOBJS= ./CaDynamics_E2.o ./Ca_HVA.o ./Ca_LVAst.o ./epsp.o ./Ih.o ./Im.o ./K_Pst.o ./K_Tst.o ./Nap_Et2.o ./NaTa_t.o ./NaTs2_t.o ./SK_E2.o ./SKv3_1.o\n",
      " -> \u001b[32mCompiling\u001b[0m mod_func.cpp\n",
      " => \u001b[32mLINKING\u001b[0m shared library \"/home/wzl/LFPy/project/conductance_measurement/realistic_neuron/L5PC_neuron/local_conductance/x86_64/./libnrnmech.so\"\n",
      "Successfully created x86_64/special\n"
     ]
    },
    {
     "data": {
      "text/plain": [
       "1.0"
      ]
     },
     "execution_count": 8,
     "metadata": {},
     "output_type": "execute_result"
    }
   ],
   "source": [
    "!nrnivmodl /home/wzl/LFPy/project/conductance_measurement/realistic_neuron/L5PC_neuron/L5PC/mod\n",
    "from neuron import h\n",
    "from neuron.units import ms, mV\n",
    "import numpy as np\n",
    "import matplotlib.pyplot as plt\n",
    "%matplotlib inline\n",
    "import plotly\n",
    "from neuron import clear_gui_callback\n",
    "from scipy.optimize import curve_fit\n",
    "import matplotlib.pyplot as plt\n",
    "from scipy.integrate import cumtrapz\n",
    "from numpy.linalg import pinv, eig\n",
    "import numpy as np\n",
    "from multiprocessing import Pool\n",
    "font2={'family':'Times New Roman',\n",
    "'weight':'bold',\n",
    "'size': 10}\n",
    "# 自定义刻度标签显示格式\n",
    "import sys\n",
    "sys.path.append('/home/wzl/LFPy/project/conductance_measurement/realistic_neuron/L5PC_neuron')\n",
    "from common_function import exp_fitting, plot_curve\n",
    "\n",
    "h.load_file('nrngui.hoc')\n",
    "h.load_file(\"import3d.hoc\")\n",
    "\n",
    "morphologyFilename = \"/home/wzl/LFPy/project/conductance_measurement/realistic_neuron/L5PC_neuron/L5PC/morphologies/cell1.asc\"\n",
    "biophysicalModelFilename = \"/home/wzl/LFPy/project/conductance_measurement/realistic_neuron/L5PC_neuron/L5PC/models/L5PCbiophys1.hoc\"\n",
    "biophysicalModelTemplateFilename = \"/home/wzl/LFPy/project/conductance_measurement/realistic_neuron/L5PC_neuron/L5PC/models/L5PCtemplate.hoc\"\n",
    "\n",
    "h.load_file(biophysicalModelFilename)\n",
    "h.load_file(biophysicalModelTemplateFilename)\n"
   ]
  },
  {
   "cell_type": "code",
   "execution_count": 5,
   "metadata": {},
   "outputs": [],
   "source": [
    "def calculate_synaptic_current(run_dt,fE, passive = False, \n",
    "                    E = True, loc=58, block='',name= '', \n",
    "                    location ='dend'):\n",
    "    \n",
    "    L5PC = h.L5PCtemplate(morphologyFilename)\n",
    "\n",
    "    if passive:\n",
    "        for sec in h.allsec():\n",
    "            # 检查 section 是否有主动离子通道\n",
    "            if h.ismembrane(\"na3\", sec=sec):\n",
    "                # 将电导设置为0\n",
    "                sec.gbar_na3 = 0.\n",
    "            if h.ismembrane(\"h\", sec=sec):\n",
    "                sec.ghdbar_h = 0.\n",
    "            if h.ismembrane(\"kadist\", sec=sec):\n",
    "                sec.gkabar_kadist = 0.\n",
    "            if h.ismembrane(\"kaprox\", sec=sec):\n",
    "                sec.gkabar_kaprox = 0.\n",
    "            if h.ismembrane(\"kdrca1\", sec=sec):\n",
    "                sec.gkdrbar_kdrca1 = 0.\n",
    "            if h.ismembrane(\"nax\", sec=sec):\n",
    "                sec.gbar_nax = 0.\n",
    "            if h.ismembrane(\"Ca_HVA\",sec=sec):\n",
    "                sec.gCa_HVAbar_Ca_HVA = 0.\n",
    "            if h.ismembrane(\"Ca_LVAst\",sec=sec):\n",
    "                sec.gCa_LVAstbar_Ca_LVAst = 0.\n",
    "            if h.ismembrane(\"Ih\",sec=sec):\n",
    "                sec.gIhbar_Ih = 0.\n",
    "            if h.ismembrane(\"Im\",sec=sec):\n",
    "                sec.gImbar_Im = 0.\n",
    "            if h.ismembrane(\"K_Pst\",sec=sec):\n",
    "                sec.gK_Pstbar_K_Pst = 0.\n",
    "            if h.ismembrane(\"K_Tst\",sec=sec):\n",
    "                sec.gK_Tstbar_K_Tst = 0.\n",
    "            if h.ismembrane(\"Nap_Et2\",sec=sec):\n",
    "                sec.gNap_Et2bar_Nap_Et2 = 0.\n",
    "            if h.ismembrane(\"NaTa_t\",sec=sec):\n",
    "                sec.gNaTa_tbar_NaTa_t = 0.\n",
    "            if h.ismembrane(\"NaTs2_t\",sec=sec):\n",
    "                sec.gNaTs2_tbar_NaTs2_t = 0.\n",
    "            if h.ismembrane(\"SK_E2\",sec=sec):\n",
    "                sec.gSK_E2bar_SK_E2 = 0.\n",
    "            if h.ismembrane(\"SKv3_1\",sec=sec):\n",
    "                sec.gSKv3_1bar_SKv3_1 = 0.   \n",
    "    \n",
    "    if block:\n",
    "        for sec in h.allsec():\n",
    "            if h.ismembrane(block, sec=sec):\n",
    "                # 将电导设置为0\n",
    "                setattr(sec, name, 0.)\n",
    "             \n",
    "    # Set simulation parameters\n",
    "    h.dt = run_dt\n",
    "    h.tstop = 200.\n",
    "    h.v_init = -90.\n",
    "    v_clamp = -90.\n",
    "    \n",
    "    recv = h.Vector().record(L5PC.soma[0](0.5)._ref_v)\n",
    "\n",
    "\n",
    "    # Initialize an excitatory or inhibitory synaptic input\n",
    "    # make a new stimulator\n",
    "    stim = h.NetStim()\n",
    "    \n",
    "    # attach it to a synapse\n",
    "    if location == 'dend':\n",
    "        syn = h.Exp2Syn(L5PC.dend[int(loc)](0.9))\n",
    "    if location == 'apic':\n",
    "        syn = h.Exp2Syn(L5PC.apic[int(loc)](0.9))\n",
    "    syn.tau1 = 1.  # ms\n",
    "    syn.tau2 = 5.  # ms\n",
    "    if E:\n",
    "        syn.e = 0.  # mV for E input and -80 for I input\n",
    "    else: \n",
    "        syn.e = -80.\n",
    "    I_loc = h.Vector().record(syn._ref_i)\n",
    "    # print(syn.e)\n",
    "        \n",
    "    stim.number = 1\n",
    "    stim.start = 100.  # ms\n",
    "    ncstim = h.NetCon(stim, syn)\n",
    "    ncstim.delay = 0.\n",
    "    ncstim.weight[0] = 0.  # uS\n",
    "\n",
    "\n",
    "    # Initialize voltage clamp\n",
    "    vclamp = h.SEClamp(L5PC.soma[0](0.5))\n",
    "    vclamp.amp1 = v_clamp\n",
    "    vclamp.dur1 = h.tstop\n",
    "    vclamp.amp2 = v_clamp - 20.\n",
    "\n",
    "    irec = h.Vector()\n",
    "    irec.record(vclamp._ref_i)\n",
    "\n",
    "    # Function to initialize the simulation\n",
    "    def initialize():\n",
    "        h.t = 0\n",
    "        h.finitialize(h.v_init)\n",
    "        h.fcurrent()\n",
    "\n",
    "    # Function to integrate the simulation\n",
    "    def integrate():\n",
    "        while h.t < h.tstop:\n",
    "            h.fadvance()\n",
    "\n",
    "    # Function to run the simulation\n",
    "    def go():\n",
    "        initialize()\n",
    "        integrate()\n",
    "\n",
    "    # Main simulation loop\n",
    "    def main():\n",
    "        vclamp.amp1 = v_clamp\n",
    "        vclamp.dur1 = h.tstop\n",
    "        vclamp.dur2 = 0.\n",
    "        vclamp.dur3 = 0.\n",
    "        ncstim.weight[0] = 0.\n",
    "        go()\n",
    "        recv0 = np.array(recv.to_python())\n",
    "        I_inj0 = np.array(irec.to_python())\n",
    "        \n",
    "        vclamp.amp1 = v_clamp\n",
    "        vclamp.dur1 = h.tstop\n",
    "        vclamp.dur2 = 0.\n",
    "        vclamp.dur3 = 0.\n",
    "        ncstim.weight[0] = fE\n",
    "        go()\n",
    "        recv0 = np.array(recv.to_python())\n",
    "        I_inj = np.array(irec.to_python())\n",
    "        I_syn = I_inj - I_inj0\n",
    "        I_loc0 = np.array(I_loc.to_python())\n",
    "        \n",
    "        return I_syn, I_loc0\n",
    "    I_syn, I_loc0 = main()\n",
    "    return I_syn, I_loc0\n",
    "\n",
    "        \n",
    "        \n",
    "        \n",
    "\n",
    "\n",
    "\n"
   ]
  },
  {
   "cell_type": "code",
   "execution_count": 6,
   "metadata": {},
   "outputs": [],
   "source": [
    "I_syn, I_loc0 = calculate_synaptic_current(0.1,1e-3, passive = True, \n",
    "                    E = True, loc=58, block='',name= '', \n",
    "                    location ='dend')"
   ]
  },
  {
   "cell_type": "code",
   "execution_count": 16,
   "metadata": {},
   "outputs": [
    {
     "data": {
      "text/plain": [
       "[<matplotlib.lines.Line2D at 0x7f0b6b4e3ac0>]"
      ]
     },
     "execution_count": 16,
     "metadata": {},
     "output_type": "execute_result"
    },
    {
     "data": {
      "image/png": "[encoded data removed]",
      "text/plain": [
       "<Figure size 432x288 with 1 Axes>"
      ]
     },
     "metadata": {
      "needs_background": "light"
     },
     "output_type": "display_data"
    }
   ],
   "source": [
    "plt.plot(-I_syn[1000:])"
   ]
  },
  {
   "cell_type": "code",
   "execution_count": 37,
   "metadata": {},
   "outputs": [],
   "source": [
    "from matplotlib.ticker import FuncFormatter\n",
    "def format_func(value, tick_number):\n",
    "    return f'{value:.0f}'  # 将刻度值格式化为小数点后两位\n",
    "def plot_curve(ax2,x,y,color='black',title='',linewidth=2, linestyle='-',xlim=[0,100],dx=20,\n",
    "               ylim=[0,10],dy=5.0, fontsize=10, alpha = 1.0, xlabel='Time/ms', \n",
    "               ylabel = 'Frequency/Hz', label='',ynum_decimals =1, facecolors='none',\n",
    "               nonscatter=True, s0=10, facecolor='none'):\n",
    "    if nonscatter:\n",
    "        if color:\n",
    "            ax2.plot(x,y,color=color,linewidth=linewidth,linestyle=linestyle,alpha=alpha, label=label)\n",
    "        else:\n",
    "            ax2.plot(x,y,linewidth=linewidth,alpha=alpha, linestyle=linestyle,label=label)\n",
    "    else:\n",
    "        if color:\n",
    "            ax2.scatter(x,y,edgecolors=color,facecolors = facecolor, alpha=alpha, \n",
    "                        label=label, s=s0)\n",
    "        else:\n",
    "            ax2.scatter(x,y, alpha=alpha, label=label,\n",
    "                        s=s0)\n",
    "        \n",
    "    ax2.set_xlabel(xlabel,font2)\n",
    "    ax2.set_ylabel(ylabel,font2)\n",
    "    \n",
    "    # def format_funcx(value, tick_number, num_decimals=xnum_decimals):\n",
    "    #     if num_decimals==0:\n",
    "    #         return f'{value:.0f}'\n",
    "    #     return f'{value:.{num_decimals}f}'\n",
    "\n",
    "    def format_funcy(value, tick_number, num_decimals=ynum_decimals):\n",
    "        if num_decimals==0:\n",
    "          return f'{value:.0f}'\n",
    "        return f'{value:.{num_decimals}f}'\n",
    "\n",
    "    # if dx:\n",
    "    #     ax2.set_xticks(np.arange(xlim[0], xlim[1] + dx, dx))\n",
    "    #     ax2.set_xticklabels(ax2.get_xticks(), fontsize=fontsize, weight='bold')\n",
    "    #     ax2.set_xlim([xlim[0], xlim[1]])\n",
    "        # ax2.xaxis.set_major_formatter(FuncFormatter(format_funcx))\n",
    "\n",
    "    if dy:\n",
    "        ax2.set_yticks(np.arange(ylim[0], ylim[1] + dy, dy))\n",
    "        ax2.set_yticklabels(ax2.get_yticks(), fontsize=fontsize, weight='bold')\n",
    "        ax2.set_ylim([ylim[0], ylim[1]])\n",
    "        ax2.yaxis.set_major_formatter(FuncFormatter(format_funcy))\n",
    "        \n",
    "  \n",
    "    if xlim:\n",
    "       ax2.set_xticks(np.arange(xlim[0],xlim[1]+dx,dx))\n",
    "       ax2.set_xticklabels(np.arange(xlim[0],xlim[1]+dx,dx),fontsize=fontsize,weight='bold')\n",
    "       ax2.set_xlim(xlim)\n",
    "    # if ylim:\n",
    "    #    ax2.set_yticks(np.arange(ylim[0],ylim[1]+dy,dy))\n",
    "    #    ax2.set_yticklabels(np.arange(ylim[0],ylim[1]+dy,dy),fontsize=10,weight='bold')\n",
    "    #    ax2.set_ylim(ylim)\n",
    "    if title:\n",
    "       ax2.set_title('{0}'.format(title),fontsize=fontsize,weight='bold')\n",
    "    ax2.spines['top'].set_visible(False)\n",
    "    ax2.spines['right'].set_visible(False)\n",
    "    if label:\n",
    "       ax2.legend(loc='best',prop=font2,edgecolor='white')"
   ]
  },
  {
   "cell_type": "code",
   "execution_count": 42,
   "metadata": {},
   "outputs": [
    {
     "name": "stderr",
     "output_type": "stream",
     "text": [
      "The PostScript backend does not support transparency; partially transparent artists will be rendered opaque.\n"
     ]
    },
    {
     "data": {
      "image/png": "[encoded data removed]",
      "text/plain": [
       "<Figure size 288x252 with 1 Axes>"
      ]
     },
     "metadata": {
      "needs_background": "light"
     },
     "output_type": "display_data"
    }
   ],
   "source": [
    "time = np.arange(0,len(I_syn))*0.1\n",
    "s0 = 15\n",
    "fig, ax2 = plt.subplots(1,1, figsize = (4,3.5))\n",
    "plot_curve(ax2,time[1000:]-time[1000], -I_syn[1000:], color='darkorange', label=r'$I_{syn}^{inj}$',\n",
    "               xlim=[0,100], dx=50, fontsize=10,\n",
    "               ylim=[0, 2], dy=0., ynum_decimals=0, ylabel='current/nA')\n",
    "plot_curve(ax2,time[1000:]-time[1000],-I_loc0[1000:], color='green', label=r'$I_{local}$',\n",
    "               xlim=[0,40], dx=20, fontsize=10,\n",
    "               ylim=[0, 0.08], dy=0.04, ynum_decimals=2, ylabel='current/nA')\n",
    "plt.savefig('/home/wzl/LFPy/project/conductance_measurement/realistic_neuron/L5PC_neuron/figure/comparison_syn_local'+'.eps', format='eps')"
   ]
  },
  {
   "cell_type": "code",
   "execution_count": null,
   "metadata": {},
   "outputs": [],
   "source": []
  }
 ],
 "metadata": {
  "kernelspec": {
   "display_name": "nest",
   "language": "python",
   "name": "python3"
  },
  "language_info": {
   "codemirror_mode": {
    "name": "ipython",
    "version": 3
   },
   "file_extension": ".py",
   "mimetype": "text/x-python",
   "name": "python",
   "nbconvert_exporter": "python",
   "pygments_lexer": "ipython3",
   "version": "3.10.2"
  }
 },
 "nbformat": 4,
 "nbformat_minor": 2
}
